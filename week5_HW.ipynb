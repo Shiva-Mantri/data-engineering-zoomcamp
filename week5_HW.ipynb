{
 "cells": [
  {
   "cell_type": "markdown",
   "id": "0af6c7bd",
   "metadata": {},
   "source": [
    "### Week 5 Homework Solution"
   ]
  },
  {
   "cell_type": "markdown",
   "id": "36946ced",
   "metadata": {},
   "source": [
    "##### Question 1. Install Spark and PySpark - Display Spark Version\n"
   ]
  },
  {
   "cell_type": "code",
   "execution_count": 1,
   "id": "ade69792",
   "metadata": {
    "scrolled": true
   },
   "outputs": [
    {
     "name": "stderr",
     "output_type": "stream",
     "text": [
      "WARNING: An illegal reflective access operation has occurred\n",
      "WARNING: Illegal reflective access by org.apache.spark.unsafe.Platform (file:/home/shivamantri/spark/spark-3.0.3-bin-hadoop3.2/jars/spark-unsafe_2.12-3.0.3.jar) to constructor java.nio.DirectByteBuffer(long,int)\n",
      "WARNING: Please consider reporting this to the maintainers of org.apache.spark.unsafe.Platform\n",
      "WARNING: Use --illegal-access=warn to enable warnings of further illegal reflective access operations\n",
      "WARNING: All illegal access operations will be denied in a future release\n",
      "22/03/01 09:19:37 WARN NativeCodeLoader: Unable to load native-hadoop library for your platform... using builtin-java classes where applicable\n",
      "Using Spark's default log4j profile: org/apache/spark/log4j-defaults.properties\n",
      "Setting default log level to \"WARN\".\n",
      "To adjust logging level use sc.setLogLevel(newLevel). For SparkR, use setLogLevel(newLevel).\n"
     ]
    }
   ],
   "source": [
    "# Spark, PySpark installed\n",
    "import pyspark\n",
    "from pyspark.sql import SparkSession\n",
    "\n",
    "spark = SparkSession.builder \\\n",
    "    .master(\"local[*]\") \\\n",
    "    .appName('test') \\\n",
    "    .getOrCreate()\n"
   ]
  },
  {
   "cell_type": "code",
   "execution_count": 3,
   "id": "c82f8da0",
   "metadata": {},
   "outputs": [
    {
     "data": {
      "text/plain": [
       "'3.0.3'"
      ]
     },
     "execution_count": 3,
     "metadata": {},
     "output_type": "execute_result"
    }
   ],
   "source": [
    "# Spark version (surprisingly __version__ is not defined!!)\n",
    "spark.version"
   ]
  },
  {
   "cell_type": "markdown",
   "id": "3f78d5e9",
   "metadata": {},
   "source": [
    "##### Answer: \n",
    "`\n",
    "'3.0.3'\n",
    "`"
   ]
  },
  {
   "cell_type": "markdown",
   "id": "799b061b",
   "metadata": {},
   "source": [
    "##### Question 2. HVFHW February 2021"
   ]
  },
  {
   "cell_type": "code",
   "execution_count": 2,
   "id": "c2c14f75",
   "metadata": {},
   "outputs": [
    {
     "name": "stdout",
     "output_type": "stream",
     "text": [
      "--2022-02-27 13:16:01--  https://nyc-tlc.s3.amazonaws.com/trip+data/fhvhv_tripdata_2021-02.csv\n",
      "Resolving nyc-tlc.s3.amazonaws.com (nyc-tlc.s3.amazonaws.com)... 52.216.176.67\n",
      "Connecting to nyc-tlc.s3.amazonaws.com (nyc-tlc.s3.amazonaws.com)|52.216.176.67|:443... connected.\n",
      "HTTP request sent, awaiting response... 200 OK\n",
      "Length: 733822658 (700M) [text/csv]\n",
      "Saving to: ‘fhvhv_tripdata_2021-02.csv’\n",
      "\n",
      "fhvhv_tripdata_2021 100%[===================>] 699.83M  92.6MB/s    in 8.6s    \n",
      "\n",
      "2022-02-27 13:16:10 (81.0 MB/s) - ‘fhvhv_tripdata_2021-02.csv’ saved [733822658/733822658]\n",
      "\n"
     ]
    }
   ],
   "source": [
    "# Download FHVHV 2021 - 02 Data\n",
    "!wget https://nyc-tlc.s3.amazonaws.com/trip+data/fhvhv_tripdata_2021-02.csv"
   ]
  },
  {
   "cell_type": "code",
   "execution_count": 3,
   "id": "60ccc44b",
   "metadata": {},
   "outputs": [
    {
     "name": "stdout",
     "output_type": "stream",
     "text": [
      "11613943 fhvhv_tripdata_2021-02.csv\r\n"
     ]
    }
   ],
   "source": [
    "# Record count - 11,613,943 \n",
    "!wc -l fhvhv_tripdata_2021-02.csv"
   ]
  },
  {
   "cell_type": "code",
   "execution_count": 4,
   "id": "84321af2",
   "metadata": {},
   "outputs": [],
   "source": [
    "# Get 1000 records\n",
    "!head -n 1001 fhvhv_tripdata_2021-02.csv > head.csv"
   ]
  },
  {
   "cell_type": "code",
   "execution_count": 4,
   "id": "02e9349d",
   "metadata": {},
   "outputs": [
    {
     "name": "stdout",
     "output_type": "stream",
     "text": [
      "1001 head.csv\r\n"
     ]
    }
   ],
   "source": [
    "!wc -l head.csv"
   ]
  },
  {
   "cell_type": "code",
   "execution_count": 5,
   "id": "826bcfb4",
   "metadata": {},
   "outputs": [],
   "source": [
    "# Load small data set to pandas for analyzing and looking at schema\n",
    "import pandas as pd\n",
    "\n",
    "df_pandas = pd.read_csv('head.csv')"
   ]
  },
  {
   "cell_type": "code",
   "execution_count": 11,
   "id": "4497dccf",
   "metadata": {},
   "outputs": [
    {
     "data": {
      "text/html": [
       "<div>\n",
       "<style scoped>\n",
       "    .dataframe tbody tr th:only-of-type {\n",
       "        vertical-align: middle;\n",
       "    }\n",
       "\n",
       "    .dataframe tbody tr th {\n",
       "        vertical-align: top;\n",
       "    }\n",
       "\n",
       "    .dataframe thead th {\n",
       "        text-align: right;\n",
       "    }\n",
       "</style>\n",
       "<table border=\"1\" class=\"dataframe\">\n",
       "  <thead>\n",
       "    <tr style=\"text-align: right;\">\n",
       "      <th></th>\n",
       "      <th>hvfhs_license_num</th>\n",
       "      <th>dispatching_base_num</th>\n",
       "      <th>pickup_datetime</th>\n",
       "      <th>dropoff_datetime</th>\n",
       "      <th>PULocationID</th>\n",
       "      <th>DOLocationID</th>\n",
       "      <th>SR_Flag</th>\n",
       "    </tr>\n",
       "  </thead>\n",
       "  <tbody>\n",
       "    <tr>\n",
       "      <th>0</th>\n",
       "      <td>HV0003</td>\n",
       "      <td>B02764</td>\n",
       "      <td>2021-02-01 00:10:40</td>\n",
       "      <td>2021-02-01 00:21:09</td>\n",
       "      <td>35</td>\n",
       "      <td>39</td>\n",
       "      <td>NaN</td>\n",
       "    </tr>\n",
       "    <tr>\n",
       "      <th>1</th>\n",
       "      <td>HV0003</td>\n",
       "      <td>B02764</td>\n",
       "      <td>2021-02-01 00:27:23</td>\n",
       "      <td>2021-02-01 00:44:01</td>\n",
       "      <td>39</td>\n",
       "      <td>35</td>\n",
       "      <td>NaN</td>\n",
       "    </tr>\n",
       "    <tr>\n",
       "      <th>2</th>\n",
       "      <td>HV0005</td>\n",
       "      <td>B02510</td>\n",
       "      <td>2021-02-01 00:28:38</td>\n",
       "      <td>2021-02-01 00:38:27</td>\n",
       "      <td>39</td>\n",
       "      <td>91</td>\n",
       "      <td>NaN</td>\n",
       "    </tr>\n",
       "    <tr>\n",
       "      <th>3</th>\n",
       "      <td>HV0005</td>\n",
       "      <td>B02510</td>\n",
       "      <td>2021-02-01 00:43:37</td>\n",
       "      <td>2021-02-01 01:23:20</td>\n",
       "      <td>91</td>\n",
       "      <td>228</td>\n",
       "      <td>NaN</td>\n",
       "    </tr>\n",
       "    <tr>\n",
       "      <th>4</th>\n",
       "      <td>HV0003</td>\n",
       "      <td>B02872</td>\n",
       "      <td>2021-02-01 00:08:42</td>\n",
       "      <td>2021-02-01 00:17:57</td>\n",
       "      <td>126</td>\n",
       "      <td>250</td>\n",
       "      <td>NaN</td>\n",
       "    </tr>\n",
       "  </tbody>\n",
       "</table>\n",
       "</div>"
      ],
      "text/plain": [
       "  hvfhs_license_num dispatching_base_num      pickup_datetime  \\\n",
       "0            HV0003               B02764  2021-02-01 00:10:40   \n",
       "1            HV0003               B02764  2021-02-01 00:27:23   \n",
       "2            HV0005               B02510  2021-02-01 00:28:38   \n",
       "3            HV0005               B02510  2021-02-01 00:43:37   \n",
       "4            HV0003               B02872  2021-02-01 00:08:42   \n",
       "\n",
       "      dropoff_datetime  PULocationID  DOLocationID  SR_Flag  \n",
       "0  2021-02-01 00:21:09            35            39      NaN  \n",
       "1  2021-02-01 00:44:01            39            35      NaN  \n",
       "2  2021-02-01 00:38:27            39            91      NaN  \n",
       "3  2021-02-01 01:23:20            91           228      NaN  \n",
       "4  2021-02-01 00:17:57           126           250      NaN  "
      ]
     },
     "execution_count": 11,
     "metadata": {},
     "output_type": "execute_result"
    }
   ],
   "source": [
    "df_pandas.head()"
   ]
  },
  {
   "cell_type": "code",
   "execution_count": 6,
   "id": "5f4f8b02",
   "metadata": {},
   "outputs": [
    {
     "data": {
      "text/plain": [
       "hvfhs_license_num        object\n",
       "dispatching_base_num     object\n",
       "pickup_datetime          object\n",
       "dropoff_datetime         object\n",
       "PULocationID              int64\n",
       "DOLocationID              int64\n",
       "SR_Flag                 float64\n",
       "dtype: object"
      ]
     },
     "execution_count": 6,
     "metadata": {},
     "output_type": "execute_result"
    }
   ],
   "source": [
    "df_pandas.dtypes"
   ]
  },
  {
   "cell_type": "code",
   "execution_count": 9,
   "id": "37c14f81",
   "metadata": {},
   "outputs": [
    {
     "name": "stdout",
     "output_type": "stream",
     "text": [
      "root\n",
      " |-- hvfhs_license_num: string (nullable = true)\n",
      " |-- dispatching_base_num: string (nullable = true)\n",
      " |-- pickup_datetime: string (nullable = true)\n",
      " |-- dropoff_datetime: string (nullable = true)\n",
      " |-- PULocationID: long (nullable = true)\n",
      " |-- DOLocationID: long (nullable = true)\n",
      " |-- SR_Flag: double (nullable = true)\n",
      "\n"
     ]
    }
   ],
   "source": [
    "# Load into spark and see what dataframe schema would Spark create\n",
    "spark.createDataFrame(df_pandas).printSchema()"
   ]
  },
  {
   "cell_type": "code",
   "execution_count": 12,
   "id": "921fc9ad",
   "metadata": {},
   "outputs": [],
   "source": [
    "from pyspark.sql import types"
   ]
  },
  {
   "cell_type": "code",
   "execution_count": 14,
   "id": "77af603e",
   "metadata": {},
   "outputs": [],
   "source": [
    "# Define an updated scheme to use during Spark dataload\n",
    "schema = types.StructType([\n",
    "    types.StructField('hvfhs_license_num', types.StringType(), True),\n",
    "    types.StructField('dispatching_base_num', types.StringType(), True),\n",
    "    types.StructField('pickup_datetime', types.TimestampType(), True),\n",
    "    types.StructField('dropoff_datetime', types.TimestampType(), True),\n",
    "    types.StructField('PULocationID', types.IntegerType(), True),\n",
    "    types.StructField('DOLocationID', types.IntegerType(), True),\n",
    "    types.StructField('SR_Flag', types.StringType(), True)\n",
    "])"
   ]
  },
  {
   "cell_type": "code",
   "execution_count": 15,
   "id": "25f7d0f1",
   "metadata": {},
   "outputs": [],
   "source": [
    "# Read FHVHV trip data for 2021 02\n",
    "df = spark.read \\\n",
    "    .option(\"header\", \"true\") \\\n",
    "    .schema(schema) \\\n",
    "    .csv('fhvhv_tripdata_2021-02.csv')"
   ]
  },
  {
   "cell_type": "code",
   "execution_count": 16,
   "id": "3acc95b7",
   "metadata": {},
   "outputs": [],
   "source": [
    "# Create 24 partitions\n",
    "df = df.repartition(24)"
   ]
  },
  {
   "cell_type": "code",
   "execution_count": 17,
   "id": "8d7adc0c",
   "metadata": {},
   "outputs": [
    {
     "name": "stderr",
     "output_type": "stream",
     "text": [
      "                                                                                \r"
     ]
    }
   ],
   "source": [
    "# Save it to parquet file\n",
    "df.write.parquet('fhvhv/2021/02/')"
   ]
  },
  {
   "cell_type": "code",
   "execution_count": null,
   "id": "199ce952",
   "metadata": {},
   "outputs": [],
   "source": []
  },
  {
   "cell_type": "code",
   "execution_count": 4,
   "id": "1c3bc4cf",
   "metadata": {},
   "outputs": [
    {
     "name": "stderr",
     "output_type": "stream",
     "text": [
      "                                                                                \r"
     ]
    },
    {
     "name": "stdout",
     "output_type": "stream",
     "text": [
      "root\n",
      " |-- hvfhs_license_num: string (nullable = true)\n",
      " |-- dispatching_base_num: string (nullable = true)\n",
      " |-- pickup_datetime: timestamp (nullable = true)\n",
      " |-- dropoff_datetime: timestamp (nullable = true)\n",
      " |-- PULocationID: integer (nullable = true)\n",
      " |-- DOLocationID: integer (nullable = true)\n",
      " |-- SR_Flag: string (nullable = true)\n",
      "\n"
     ]
    }
   ],
   "source": [
    "# read and print schema - done\n",
    "df = spark.read.parquet('fhvhv/2021/02/')\n",
    "df.printSchema()"
   ]
  },
  {
   "cell_type": "markdown",
   "id": "d61fe1e8",
   "metadata": {},
   "source": [
    "##### Answer: 210M \n",
    "`\n",
    "(base) shivamantri@dezc-linux-instance:~/notebooks/code/fhvhv/2021$ du -h 02\n",
    "210M    02\n",
    "`"
   ]
  },
  {
   "cell_type": "code",
   "execution_count": 2,
   "id": "85310d9d",
   "metadata": {},
   "outputs": [],
   "source": [
    "from pyspark.sql import functions as F"
   ]
  },
  {
   "cell_type": "code",
   "execution_count": 5,
   "id": "8235f323",
   "metadata": {},
   "outputs": [
    {
     "name": "stderr",
     "output_type": "stream",
     "text": [
      "[Stage 1:>                                                          (0 + 1) / 1]\r"
     ]
    },
    {
     "name": "stdout",
     "output_type": "stream",
     "text": [
      "+-----------------+--------------------+-------------------+-------------------+------------+------------+-------+\n",
      "|hvfhs_license_num|dispatching_base_num|    pickup_datetime|   dropoff_datetime|PULocationID|DOLocationID|SR_Flag|\n",
      "+-----------------+--------------------+-------------------+-------------------+------------+------------+-------+\n",
      "|           HV0003|              B02887|2021-02-06 01:18:35|2021-02-06 01:40:34|         163|         235|   null|\n",
      "|           HV0005|              B02510|2021-02-05 07:13:06|2021-02-05 07:31:56|         225|         181|   null|\n",
      "|           HV0003|              B02869|2021-02-04 16:56:52|2021-02-04 17:21:36|         260|          95|   null|\n",
      "|           HV0003|              B02871|2021-02-03 18:34:17|2021-02-03 18:57:12|         235|          60|   null|\n",
      "|           HV0003|              B02869|2021-02-04 07:25:09|2021-02-04 07:30:34|          55|          55|   null|\n",
      "|           HV0003|              B02836|2021-02-04 23:15:27|2021-02-04 23:34:29|          74|          81|   null|\n",
      "|           HV0003|              B02882|2021-02-05 07:45:49|2021-02-05 08:05:03|         239|         231|   null|\n",
      "|           HV0003|              B02887|2021-02-03 17:33:59|2021-02-03 17:47:14|          95|         196|   null|\n",
      "|           HV0003|              B02877|2021-02-03 09:33:06|2021-02-03 09:45:59|         241|         265|   null|\n",
      "|           HV0003|              B02872|2021-02-02 12:58:46|2021-02-02 13:06:20|          90|         137|   null|\n",
      "|           HV0003|              B02764|2021-02-05 22:25:20|2021-02-05 22:28:27|           7|           7|   null|\n",
      "|           HV0003|              B02882|2021-02-04 19:57:44|2021-02-04 20:05:24|         231|         246|   null|\n",
      "|           HV0003|              B02764|2021-02-02 08:43:57|2021-02-02 08:53:46|         108|          29|   null|\n",
      "|           HV0003|              B02866|2021-02-04 05:51:50|2021-02-04 06:21:25|          11|         112|   null|\n",
      "|           HV0003|              B02882|2021-02-05 16:13:02|2021-02-05 16:27:48|         229|         234|   null|\n",
      "|           HV0005|              B02510|2021-02-04 17:15:28|2021-02-04 17:24:46|          10|         218|   null|\n",
      "|           HV0003|              B02617|2021-02-04 09:59:58|2021-02-04 10:29:13|          49|         232|   null|\n",
      "|           HV0005|              B02510|2021-02-05 23:34:27|2021-02-05 23:51:05|         125|          17|   null|\n",
      "|           HV0003|              B02875|2021-02-05 20:52:58|2021-02-05 21:19:59|          47|          68|   null|\n",
      "|           HV0003|              B02875|2021-02-04 18:11:00|2021-02-04 18:37:24|          41|         223|   null|\n",
      "+-----------------+--------------------+-------------------+-------------------+------------+------------+-------+\n",
      "only showing top 20 rows\n",
      "\n"
     ]
    },
    {
     "name": "stderr",
     "output_type": "stream",
     "text": [
      "                                                                                \r"
     ]
    }
   ],
   "source": [
    "df.show()"
   ]
  },
  {
   "cell_type": "code",
   "execution_count": 10,
   "id": "7af4b35a",
   "metadata": {},
   "outputs": [],
   "source": [
    "# Register temporary table\n",
    "df.registerTempTable('fhvhv_data')"
   ]
  },
  {
   "cell_type": "markdown",
   "id": "6b50d5a4",
   "metadata": {},
   "source": [
    "##### Question 3. Count records\n",
    "How many taxi trips were there on February 15?"
   ]
  },
  {
   "cell_type": "code",
   "execution_count": 12,
   "id": "8c3160f9",
   "metadata": {},
   "outputs": [
    {
     "name": "stderr",
     "output_type": "stream",
     "text": [
      "[Stage 5:=======================================>                   (2 + 1) / 3]\r"
     ]
    },
    {
     "name": "stdout",
     "output_type": "stream",
     "text": [
      "+--------+\n",
      "|count(1)|\n",
      "+--------+\n",
      "|  367170|\n",
      "+--------+\n",
      "\n"
     ]
    },
    {
     "name": "stderr",
     "output_type": "stream",
     "text": [
      "                                                                                \r"
     ]
    }
   ],
   "source": [
    "df_result = spark.sql (\"\"\"\n",
    "SELECT\n",
    "    count(*)\n",
    "FROM\n",
    "    fhvhv_data\n",
    "WHERE\n",
    "    pickup_datetime >= '2021-02-15 00:00:00' and\n",
    "    pickup_datetime < '2021-02-16 00:00:00'\n",
    "\"\"\").show()"
   ]
  },
  {
   "cell_type": "markdown",
   "id": "b3c2fb92",
   "metadata": {},
   "source": [
    "##### Answer: \n",
    "`\n",
    "367,170\n",
    "`"
   ]
  },
  {
   "cell_type": "markdown",
   "id": "7f24f455",
   "metadata": {},
   "source": [
    "##### Question 4. Longest trip for each day\n",
    "Now calculate the duration for each trip.\n",
    "Trip starting on which day was the longest?"
   ]
  },
  {
   "cell_type": "code",
   "execution_count": null,
   "id": "a51efc89",
   "metadata": {},
   "outputs": [],
   "source": []
  },
  {
   "cell_type": "code",
   "execution_count": 36,
   "id": "2e66a023",
   "metadata": {},
   "outputs": [
    {
     "name": "stderr",
     "output_type": "stream",
     "text": [
      "[Stage 55:=========================================>            (155 + 2) / 200]\r"
     ]
    },
    {
     "name": "stdout",
     "output_type": "stream",
     "text": [
      "+----------+-------------+\n",
      "|    PUDate|max(duration)|\n",
      "+----------+-------------+\n",
      "|2021-02-11|        75540|\n",
      "+----------+-------------+\n",
      "\n"
     ]
    },
    {
     "name": "stderr",
     "output_type": "stream",
     "text": [
      "                                                                                \r"
     ]
    }
   ],
   "source": [
    "df_result = spark.sql (\"\"\"\n",
    "SELECT rollup.PUDate, max(rollup.duration)\n",
    "FROM (\n",
    "    SELECT\n",
    "        DATE(pickup_datetime) as PUDate, \n",
    "        pickup_datetime, dropoff_datetime, \n",
    "        (UNIX_TIMESTAMP(dropoff_datetime) - UNIX_TIMESTAMP(pickup_datetime)) as duration\n",
    "    FROM\n",
    "        fhvhv_data\n",
    "--    WHERE\n",
    "--        pickup_datetime <= '2021-02-10 00:00:00'\n",
    "    ) rollup\n",
    "GROUP BY rollup.PUDate\n",
    "ORDER BY 2 DESC\n",
    "LIMIT 1\n",
    "\"\"\").show()"
   ]
  },
  {
   "cell_type": "markdown",
   "id": "07665329",
   "metadata": {},
   "source": [
    "##### Answer\n",
    "`\n",
    "+----------+-------------+\n",
    "|    PUDate|max(duration)|\n",
    "+----------+-------------+\n",
    "|2021-02-11|        75540|\n",
    "+----------+-------------+\n",
    "`"
   ]
  },
  {
   "cell_type": "markdown",
   "id": "1dad5ea2",
   "metadata": {},
   "source": [
    "##### Question 5. Most frequent dispatching_base_num\n",
    "Now find the most frequently occurring dispatching_base_num in this dataset.\n",
    "How many stages this spark job has?\n",
    "Note: the answer may depend on how you write the query, so there are multiple correct answers. Select the one you have."
   ]
  },
  {
   "cell_type": "code",
   "execution_count": 39,
   "id": "14c626b9",
   "metadata": {},
   "outputs": [
    {
     "name": "stderr",
     "output_type": "stream",
     "text": [
      "[Stage 64:=================================================>    (183 + 2) / 200]\r"
     ]
    },
    {
     "name": "stdout",
     "output_type": "stream",
     "text": [
      "+--------------------+--------+\n",
      "|dispatching_base_num|count(1)|\n",
      "+--------------------+--------+\n",
      "|              B02510| 3233664|\n",
      "|              B02764|  965568|\n",
      "|              B02872|  882689|\n",
      "|              B02875|  685390|\n",
      "|              B02765|  559768|\n",
      "|              B02869|  429720|\n",
      "|              B02887|  322331|\n",
      "|              B02871|  312364|\n",
      "|              B02864|  311603|\n",
      "|              B02866|  311089|\n",
      "+--------------------+--------+\n",
      "\n"
     ]
    },
    {
     "name": "stderr",
     "output_type": "stream",
     "text": [
      "                                                                                \r"
     ]
    }
   ],
   "source": [
    "df_result = spark.sql (\"\"\"\n",
    "SELECT\n",
    "    dispatching_base_num, \n",
    "    count(*)\n",
    "FROM\n",
    "    fhvhv_data\n",
    "GROUP BY dispatching_base_num\n",
    "ORDER BY 2 DESC\n",
    "LIMIT 10\n",
    "\"\"\").show()"
   ]
  },
  {
   "attachments": {
    "image.png": {
     "image/png": "[encoded data removed]"
    }
   },
   "cell_type": "markdown",
   "id": "5c21a6f4",
   "metadata": {},
   "source": [
    "##### Answer\n",
    "`\n",
    "3 Stages\n",
    "`\n",
    "![image.png](attachment:image.png)"
   ]
  },
  {
   "cell_type": "markdown",
   "id": "5636a5b1",
   "metadata": {},
   "source": [
    "##### Question 6. Most common locations pair\n",
    "Find the most common pickup-dropoff pair.\n",
    "\n",
    "For example:\n",
    "\"Jamaica Bay / Clinton East\"\n",
    "\n",
    "Enter two zone names separated by a slash\n",
    "If any of the zone names are unknown (missing), use \"Unknown\". For example, \"Unknown / Clinton East\"."
   ]
  },
  {
   "cell_type": "code",
   "execution_count": 43,
   "id": "e9777b00",
   "metadata": {},
   "outputs": [
    {
     "name": "stdout",
     "output_type": "stream",
     "text": [
      "root\n",
      " |-- hvfhs_license_num: string (nullable = true)\n",
      " |-- dispatching_base_num: string (nullable = true)\n",
      " |-- pickup_datetime: timestamp (nullable = true)\n",
      " |-- dropoff_datetime: timestamp (nullable = true)\n",
      " |-- PULocationID: integer (nullable = true)\n",
      " |-- DOLocationID: integer (nullable = true)\n",
      " |-- SR_Flag: string (nullable = true)\n",
      "\n",
      "root\n",
      " |-- LocationID: string (nullable = true)\n",
      " |-- Borough: string (nullable = true)\n",
      " |-- Zone: string (nullable = true)\n",
      " |-- service_zone: string (nullable = true)\n",
      "\n"
     ]
    }
   ],
   "source": [
    "# Load Zones Files\n",
    "df_zone = spark.read.parquet('zones/')\n",
    "\n",
    "df.printSchema()\n",
    "df_zone.printSchema()"
   ]
  },
  {
   "cell_type": "code",
   "execution_count": 69,
   "id": "f72c6a11",
   "metadata": {},
   "outputs": [
    {
     "data": {
      "text/plain": [
       "'A'"
      ]
     },
     "execution_count": 69,
     "metadata": {},
     "output_type": "execute_result"
    }
   ],
   "source": [
    "# Define Function to handle empty or null PU/DO Location IDs\n",
    "def unknownFunction(colVal):\n",
    "    if not colVal:\n",
    "        return 'Unknown'\n",
    "    elif colVal == 'NA':\n",
    "        return 'Unknown'\n",
    "    else:\n",
    "        return colVal\n",
    "    \n",
    "unknownFunction('A')"
   ]
  },
  {
   "cell_type": "code",
   "execution_count": 73,
   "id": "b47e3ec6",
   "metadata": {},
   "outputs": [],
   "source": [
    "# Join FHVHV and Zones - Full Outerjoin\n",
    "\n",
    "## For Pick Up\n",
    "df_pu_result = df.join(df_zone, (df.PULocationID == df_zone.LocationID))\n",
    "\n",
    "# Update result to include appropriate columns and rename accordingly\n",
    "df_pu_result = df_pu_result.drop('LocationID', 'SR_Flag', 'hvfhs_license_num', 'service_zone', 'Borough')\\\n",
    "    .withColumnRenamed('Zone', 'PU_Zone')\n",
    "\n",
    "## For Drop Off\n",
    "df_do_result = df_pu_result.join(df_zone, (df_pu_result.DOLocationID == df_zone.LocationID))\n",
    "\n",
    "# Update result to include appropriate columns and rename accordingly\n",
    "df_do_result = df_do_result.drop('dispatching_base_num', 'LocationID', 'SR_Flag', 'hvfhs_license_num', 'service_zone', 'Borough')\\\n",
    "    .withColumnRenamed('Zone', 'DO_Zone')\n",
    "\n",
    "## Got the results\n",
    "\n",
    "## Concat PU and DO Zones\n",
    "df_zonepair = df_do_result.withColumn('zone_pair', \n",
    "                  F.concat(F.col('PU_Zone'),F.lit('/'), F.col('DO_Zone'))) \\\n",
    "    .drop('PU_Zone', 'DO_Zone')\n",
    "\n",
    "## Now register table and do rest in SQL\n",
    "df_zonepair.registerTempTable('zone_pair')   "
   ]
  },
  {
   "cell_type": "code",
   "execution_count": 79,
   "id": "ca394224",
   "metadata": {},
   "outputs": [
    {
     "name": "stderr",
     "output_type": "stream",
     "text": [
      "[Stage 116:=====================================>               (140 + 2) / 200]\r"
     ]
    },
    {
     "name": "stdout",
     "output_type": "stream",
     "text": [
      "+---------------------------+--------+\n",
      "|zone_pair                  |count(1)|\n",
      "+---------------------------+--------+\n",
      "|East New York/East New York|45041   |\n",
      "+---------------------------+--------+\n",
      "\n"
     ]
    },
    {
     "name": "stderr",
     "output_type": "stream",
     "text": [
      "                                                                                \r"
     ]
    }
   ],
   "source": [
    "## Group By Zone Pair, Count and Limit to 1\n",
    "df_zonepair_result = spark.sql(\"\"\"\n",
    "SELECT\n",
    "    zone_pair, count(*)\n",
    "FROM\n",
    "    zone_pair\n",
    "GROUP BY\n",
    "    zone_pair\n",
    "ORDER BY\n",
    "    2 DESC\n",
    "LIMIT 1\n",
    "\"\"\")\n",
    "\n",
    "df_zonepair_result.show(2, False)"
   ]
  },
  {
   "cell_type": "markdown",
   "id": "a3e91d1b",
   "metadata": {},
   "source": [
    "##### Answer: East New York/East New York\n",
    "`\n",
    "+---------------------------+--------+\n",
    "|zone_pair                  |count(1)|\n",
    "+---------------------------+--------+\n",
    "|East New York/East New York|45041   |\n",
    "+---------------------------+--------+\n",
    "`"
   ]
  }
 ],
 "metadata": {
  "kernelspec": {
   "display_name": "Python 3 (ipykernel)",
   "language": "python",
   "name": "python3"
  },
  "language_info": {
   "codemirror_mode": {
    "name": "ipython",
    "version": 3
   },
   "file_extension": ".py",
   "mimetype": "text/x-python",
   "name": "python",
   "nbconvert_exporter": "python",
   "pygments_lexer": "ipython3",
   "version": "3.9.7"
  }
 },
 "nbformat": 4,
 "nbformat_minor": 5
}
